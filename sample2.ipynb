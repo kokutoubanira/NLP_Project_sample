{
  "nbformat": 4,
  "nbformat_minor": 0,
  "metadata": {
    "colab": {
      "name": "Untitled2.ipynb",
      "provenance": [],
      "mount_file_id": "1RRo-hYzo89euVJ6YIaapKYqazLGaFehz",
      "authorship_tag": "ABX9TyOcwoRaXrN1xFnZ79a1ekKG",
      "include_colab_link": true
    },
    "kernelspec": {
      "name": "python3",
      "display_name": "Python 3"
    },
    "language_info": {
      "name": "python"
    }
  },
  "cells": [
    {
      "cell_type": "markdown",
      "metadata": {
        "id": "view-in-github",
        "colab_type": "text"
      },
      "source": [
        "<a href=\"https://colab.research.google.com/github/kokutoubanira/NLP_Project_sample/blob/main/Untitled2.ipynb\" target=\"_parent\"><img src=\"https://colab.research.google.com/assets/colab-badge.svg\" alt=\"Open In Colab\"/></a>"
      ]
    },
    {
      "cell_type": "code",
      "metadata": {
        "id": "DYwwivqAzgWE"
      },
      "source": [
        "#Importing the required libraries\n",
        "import re\n",
        "import math\n",
        "import numpy as np\n",
        "import pandas as pd\n",
        "import string\n",
        "import scipy as sp\n",
        "import nltk\n",
        "import time\n",
        "import operator\n",
        "from scipy import *\n",
        "from scipy.sparse import *\n",
        "from collections import defaultdict\n",
        "from collections import Counter\n",
        "from nltk.corpus import stopwords\n",
        "from nltk.tokenize import word_tokenize\n",
        "from nltk.stem import PorterStemmer \n",
        "from nltk.stem import WordNetLemmatizer\n",
        "from sklearn.model_selection import train_test_split\n",
        "from sklearn.metrics import confusion_matrix\n",
        "from sklearn.metrics import classification_report\n",
        "import os\n",
        "import pandas as pd"
      ],
      "execution_count": 2,
      "outputs": []
    },
    {
      "cell_type": "code",
      "metadata": {
        "colab": {
          "base_uri": "https://localhost:8080/",
          "height": 419
        },
        "id": "4WL2bAUnzhda",
        "outputId": "b182b0f1-9b32-41db-da21-02b79c5f3b16"
      },
      "source": [
        "df = pd.read_table('/content/drive/MyDrive/nlp_sample/train.dat', header=None)\n",
        "df"
      ],
      "execution_count": 8,
      "outputs": [
        {
          "output_type": "execute_result",
          "data": {
            "text/html": [
              "<div>\n",
              "<style scoped>\n",
              "    .dataframe tbody tr th:only-of-type {\n",
              "        vertical-align: middle;\n",
              "    }\n",
              "\n",
              "    .dataframe tbody tr th {\n",
              "        vertical-align: top;\n",
              "    }\n",
              "\n",
              "    .dataframe thead th {\n",
              "        text-align: right;\n",
              "    }\n",
              "</style>\n",
              "<table border=\"1\" class=\"dataframe\">\n",
              "  <thead>\n",
              "    <tr style=\"text-align: right;\">\n",
              "      <th></th>\n",
              "      <th>0</th>\n",
              "      <th>1</th>\n",
              "    </tr>\n",
              "  </thead>\n",
              "  <tbody>\n",
              "    <tr>\n",
              "      <th>0</th>\n",
              "      <td>4</td>\n",
              "      <td>Catheterization laboratory events and hospital...</td>\n",
              "    </tr>\n",
              "    <tr>\n",
              "      <th>1</th>\n",
              "      <td>5</td>\n",
              "      <td>Renal abscess in children. Three cases of rena...</td>\n",
              "    </tr>\n",
              "    <tr>\n",
              "      <th>2</th>\n",
              "      <td>2</td>\n",
              "      <td>Hyperplastic polyps seen at sigmoidoscopy are ...</td>\n",
              "    </tr>\n",
              "    <tr>\n",
              "      <th>3</th>\n",
              "      <td>5</td>\n",
              "      <td>Subclavian artery to innominate vein fistula a...</td>\n",
              "    </tr>\n",
              "    <tr>\n",
              "      <th>4</th>\n",
              "      <td>4</td>\n",
              "      <td>Effect of local inhibition of gamma-aminobutyr...</td>\n",
              "    </tr>\n",
              "    <tr>\n",
              "      <th>...</th>\n",
              "      <td>...</td>\n",
              "      <td>...</td>\n",
              "    </tr>\n",
              "    <tr>\n",
              "      <th>14433</th>\n",
              "      <td>4</td>\n",
              "      <td>Quadricuspid aortic valve and aortic regurgita...</td>\n",
              "    </tr>\n",
              "    <tr>\n",
              "      <th>14434</th>\n",
              "      <td>1</td>\n",
              "      <td>Mammographic measurements before and after aug...</td>\n",
              "    </tr>\n",
              "    <tr>\n",
              "      <th>14435</th>\n",
              "      <td>1</td>\n",
              "      <td>Use of leukocyte-depleted platelet concentrate...</td>\n",
              "    </tr>\n",
              "    <tr>\n",
              "      <th>14436</th>\n",
              "      <td>2</td>\n",
              "      <td>Complications of Tenckhoff catheters post remo...</td>\n",
              "    </tr>\n",
              "    <tr>\n",
              "      <th>14437</th>\n",
              "      <td>3</td>\n",
              "      <td>Fatal or severely disabling cerebral infarctio...</td>\n",
              "    </tr>\n",
              "  </tbody>\n",
              "</table>\n",
              "<p>14438 rows × 2 columns</p>\n",
              "</div>"
            ],
            "text/plain": [
              "       0                                                  1\n",
              "0      4  Catheterization laboratory events and hospital...\n",
              "1      5  Renal abscess in children. Three cases of rena...\n",
              "2      2  Hyperplastic polyps seen at sigmoidoscopy are ...\n",
              "3      5  Subclavian artery to innominate vein fistula a...\n",
              "4      4  Effect of local inhibition of gamma-aminobutyr...\n",
              "...   ..                                                ...\n",
              "14433  4  Quadricuspid aortic valve and aortic regurgita...\n",
              "14434  1  Mammographic measurements before and after aug...\n",
              "14435  1  Use of leukocyte-depleted platelet concentrate...\n",
              "14436  2  Complications of Tenckhoff catheters post remo...\n",
              "14437  3  Fatal or severely disabling cerebral infarctio...\n",
              "\n",
              "[14438 rows x 2 columns]"
            ]
          },
          "metadata": {},
          "execution_count": 8
        }
      ]
    },
    {
      "cell_type": "code",
      "metadata": {
        "colab": {
          "base_uri": "https://localhost:8080/"
        },
        "id": "JYZ8y7hV1yje",
        "outputId": "7b97f490-d412-460d-eb99-87204612095e"
      },
      "source": [
        "import nltk\n",
        "nltk.download('all')"
      ],
      "execution_count": 10,
      "outputs": [
        {
          "output_type": "stream",
          "name": "stdout",
          "text": [
            "[nltk_data] Downloading collection 'all'\n",
            "[nltk_data]    | \n",
            "[nltk_data]    | Downloading package abc to /root/nltk_data...\n",
            "[nltk_data]    |   Unzipping corpora/abc.zip.\n",
            "[nltk_data]    | Downloading package alpino to /root/nltk_data...\n",
            "[nltk_data]    |   Unzipping corpora/alpino.zip.\n",
            "[nltk_data]    | Downloading package biocreative_ppi to\n",
            "[nltk_data]    |     /root/nltk_data...\n",
            "[nltk_data]    |   Unzipping corpora/biocreative_ppi.zip.\n",
            "[nltk_data]    | Downloading package brown to /root/nltk_data...\n",
            "[nltk_data]    |   Unzipping corpora/brown.zip.\n",
            "[nltk_data]    | Downloading package brown_tei to /root/nltk_data...\n",
            "[nltk_data]    |   Unzipping corpora/brown_tei.zip.\n",
            "[nltk_data]    | Downloading package cess_cat to /root/nltk_data...\n",
            "[nltk_data]    |   Unzipping corpora/cess_cat.zip.\n",
            "[nltk_data]    | Downloading package cess_esp to /root/nltk_data...\n",
            "[nltk_data]    |   Unzipping corpora/cess_esp.zip.\n",
            "[nltk_data]    | Downloading package chat80 to /root/nltk_data...\n",
            "[nltk_data]    |   Unzipping corpora/chat80.zip.\n",
            "[nltk_data]    | Downloading package city_database to\n",
            "[nltk_data]    |     /root/nltk_data...\n",
            "[nltk_data]    |   Unzipping corpora/city_database.zip.\n",
            "[nltk_data]    | Downloading package cmudict to /root/nltk_data...\n",
            "[nltk_data]    |   Unzipping corpora/cmudict.zip.\n",
            "[nltk_data]    | Downloading package comparative_sentences to\n",
            "[nltk_data]    |     /root/nltk_data...\n",
            "[nltk_data]    |   Unzipping corpora/comparative_sentences.zip.\n",
            "[nltk_data]    | Downloading package comtrans to /root/nltk_data...\n",
            "[nltk_data]    | Downloading package conll2000 to /root/nltk_data...\n",
            "[nltk_data]    |   Unzipping corpora/conll2000.zip.\n",
            "[nltk_data]    | Downloading package conll2002 to /root/nltk_data...\n",
            "[nltk_data]    |   Unzipping corpora/conll2002.zip.\n",
            "[nltk_data]    | Downloading package conll2007 to /root/nltk_data...\n",
            "[nltk_data]    | Downloading package crubadan to /root/nltk_data...\n",
            "[nltk_data]    |   Unzipping corpora/crubadan.zip.\n",
            "[nltk_data]    | Downloading package dependency_treebank to\n",
            "[nltk_data]    |     /root/nltk_data...\n",
            "[nltk_data]    |   Unzipping corpora/dependency_treebank.zip.\n",
            "[nltk_data]    | Downloading package dolch to /root/nltk_data...\n",
            "[nltk_data]    |   Unzipping corpora/dolch.zip.\n",
            "[nltk_data]    | Downloading package europarl_raw to\n",
            "[nltk_data]    |     /root/nltk_data...\n",
            "[nltk_data]    |   Unzipping corpora/europarl_raw.zip.\n",
            "[nltk_data]    | Downloading package floresta to /root/nltk_data...\n",
            "[nltk_data]    |   Unzipping corpora/floresta.zip.\n",
            "[nltk_data]    | Downloading package framenet_v15 to\n",
            "[nltk_data]    |     /root/nltk_data...\n",
            "[nltk_data]    |   Unzipping corpora/framenet_v15.zip.\n",
            "[nltk_data]    | Downloading package framenet_v17 to\n",
            "[nltk_data]    |     /root/nltk_data...\n",
            "[nltk_data]    |   Unzipping corpora/framenet_v17.zip.\n",
            "[nltk_data]    | Downloading package gazetteers to /root/nltk_data...\n",
            "[nltk_data]    |   Unzipping corpora/gazetteers.zip.\n",
            "[nltk_data]    | Downloading package genesis to /root/nltk_data...\n",
            "[nltk_data]    |   Unzipping corpora/genesis.zip.\n",
            "[nltk_data]    | Downloading package gutenberg to /root/nltk_data...\n",
            "[nltk_data]    |   Unzipping corpora/gutenberg.zip.\n",
            "[nltk_data]    | Downloading package ieer to /root/nltk_data...\n",
            "[nltk_data]    |   Unzipping corpora/ieer.zip.\n",
            "[nltk_data]    | Downloading package inaugural to /root/nltk_data...\n",
            "[nltk_data]    |   Unzipping corpora/inaugural.zip.\n",
            "[nltk_data]    | Downloading package indian to /root/nltk_data...\n",
            "[nltk_data]    |   Unzipping corpora/indian.zip.\n",
            "[nltk_data]    | Downloading package jeita to /root/nltk_data...\n",
            "[nltk_data]    | Downloading package kimmo to /root/nltk_data...\n",
            "[nltk_data]    |   Unzipping corpora/kimmo.zip.\n",
            "[nltk_data]    | Downloading package knbc to /root/nltk_data...\n",
            "[nltk_data]    | Downloading package lin_thesaurus to\n",
            "[nltk_data]    |     /root/nltk_data...\n",
            "[nltk_data]    |   Unzipping corpora/lin_thesaurus.zip.\n",
            "[nltk_data]    | Downloading package mac_morpho to /root/nltk_data...\n",
            "[nltk_data]    |   Unzipping corpora/mac_morpho.zip.\n",
            "[nltk_data]    | Downloading package machado to /root/nltk_data...\n",
            "[nltk_data]    | Downloading package masc_tagged to /root/nltk_data...\n",
            "[nltk_data]    | Downloading package moses_sample to\n",
            "[nltk_data]    |     /root/nltk_data...\n",
            "[nltk_data]    |   Unzipping models/moses_sample.zip.\n",
            "[nltk_data]    | Downloading package movie_reviews to\n",
            "[nltk_data]    |     /root/nltk_data...\n",
            "[nltk_data]    |   Unzipping corpora/movie_reviews.zip.\n",
            "[nltk_data]    | Downloading package names to /root/nltk_data...\n",
            "[nltk_data]    |   Unzipping corpora/names.zip.\n",
            "[nltk_data]    | Downloading package nombank.1.0 to /root/nltk_data...\n",
            "[nltk_data]    | Downloading package nps_chat to /root/nltk_data...\n",
            "[nltk_data]    |   Unzipping corpora/nps_chat.zip.\n",
            "[nltk_data]    | Downloading package omw to /root/nltk_data...\n",
            "[nltk_data]    |   Unzipping corpora/omw.zip.\n",
            "[nltk_data]    | Downloading package opinion_lexicon to\n",
            "[nltk_data]    |     /root/nltk_data...\n",
            "[nltk_data]    |   Unzipping corpora/opinion_lexicon.zip.\n",
            "[nltk_data]    | Downloading package paradigms to /root/nltk_data...\n",
            "[nltk_data]    |   Unzipping corpora/paradigms.zip.\n",
            "[nltk_data]    | Downloading package pil to /root/nltk_data...\n",
            "[nltk_data]    |   Unzipping corpora/pil.zip.\n",
            "[nltk_data]    | Downloading package pl196x to /root/nltk_data...\n",
            "[nltk_data]    |   Unzipping corpora/pl196x.zip.\n",
            "[nltk_data]    | Downloading package ppattach to /root/nltk_data...\n",
            "[nltk_data]    |   Unzipping corpora/ppattach.zip.\n",
            "[nltk_data]    | Downloading package problem_reports to\n",
            "[nltk_data]    |     /root/nltk_data...\n",
            "[nltk_data]    |   Unzipping corpora/problem_reports.zip.\n",
            "[nltk_data]    | Downloading package propbank to /root/nltk_data...\n",
            "[nltk_data]    | Downloading package ptb to /root/nltk_data...\n",
            "[nltk_data]    |   Unzipping corpora/ptb.zip.\n",
            "[nltk_data]    | Downloading package product_reviews_1 to\n",
            "[nltk_data]    |     /root/nltk_data...\n",
            "[nltk_data]    |   Unzipping corpora/product_reviews_1.zip.\n",
            "[nltk_data]    | Downloading package product_reviews_2 to\n",
            "[nltk_data]    |     /root/nltk_data...\n",
            "[nltk_data]    |   Unzipping corpora/product_reviews_2.zip.\n",
            "[nltk_data]    | Downloading package pros_cons to /root/nltk_data...\n",
            "[nltk_data]    |   Unzipping corpora/pros_cons.zip.\n",
            "[nltk_data]    | Downloading package qc to /root/nltk_data...\n",
            "[nltk_data]    |   Unzipping corpora/qc.zip.\n",
            "[nltk_data]    | Downloading package reuters to /root/nltk_data...\n",
            "[nltk_data]    | Downloading package rte to /root/nltk_data...\n",
            "[nltk_data]    |   Unzipping corpora/rte.zip.\n",
            "[nltk_data]    | Downloading package semcor to /root/nltk_data...\n",
            "[nltk_data]    | Downloading package senseval to /root/nltk_data...\n",
            "[nltk_data]    |   Unzipping corpora/senseval.zip.\n",
            "[nltk_data]    | Downloading package sentiwordnet to\n",
            "[nltk_data]    |     /root/nltk_data...\n",
            "[nltk_data]    |   Unzipping corpora/sentiwordnet.zip.\n",
            "[nltk_data]    | Downloading package sentence_polarity to\n",
            "[nltk_data]    |     /root/nltk_data...\n",
            "[nltk_data]    |   Unzipping corpora/sentence_polarity.zip.\n",
            "[nltk_data]    | Downloading package shakespeare to /root/nltk_data...\n",
            "[nltk_data]    |   Unzipping corpora/shakespeare.zip.\n",
            "[nltk_data]    | Downloading package sinica_treebank to\n",
            "[nltk_data]    |     /root/nltk_data...\n",
            "[nltk_data]    |   Unzipping corpora/sinica_treebank.zip.\n",
            "[nltk_data]    | Downloading package smultron to /root/nltk_data...\n",
            "[nltk_data]    |   Unzipping corpora/smultron.zip.\n",
            "[nltk_data]    | Downloading package state_union to /root/nltk_data...\n",
            "[nltk_data]    |   Unzipping corpora/state_union.zip.\n",
            "[nltk_data]    | Downloading package stopwords to /root/nltk_data...\n",
            "[nltk_data]    |   Unzipping corpora/stopwords.zip.\n",
            "[nltk_data]    | Downloading package subjectivity to\n",
            "[nltk_data]    |     /root/nltk_data...\n",
            "[nltk_data]    |   Unzipping corpora/subjectivity.zip.\n",
            "[nltk_data]    | Downloading package swadesh to /root/nltk_data...\n",
            "[nltk_data]    |   Unzipping corpora/swadesh.zip.\n",
            "[nltk_data]    | Downloading package switchboard to /root/nltk_data...\n",
            "[nltk_data]    |   Unzipping corpora/switchboard.zip.\n",
            "[nltk_data]    | Downloading package timit to /root/nltk_data...\n",
            "[nltk_data]    |   Unzipping corpora/timit.zip.\n",
            "[nltk_data]    | Downloading package toolbox to /root/nltk_data...\n",
            "[nltk_data]    |   Unzipping corpora/toolbox.zip.\n",
            "[nltk_data]    | Downloading package treebank to /root/nltk_data...\n",
            "[nltk_data]    |   Unzipping corpora/treebank.zip.\n",
            "[nltk_data]    | Downloading package twitter_samples to\n",
            "[nltk_data]    |     /root/nltk_data...\n",
            "[nltk_data]    |   Unzipping corpora/twitter_samples.zip.\n",
            "[nltk_data]    | Downloading package udhr to /root/nltk_data...\n",
            "[nltk_data]    |   Unzipping corpora/udhr.zip.\n",
            "[nltk_data]    | Downloading package udhr2 to /root/nltk_data...\n",
            "[nltk_data]    |   Unzipping corpora/udhr2.zip.\n",
            "[nltk_data]    | Downloading package unicode_samples to\n",
            "[nltk_data]    |     /root/nltk_data...\n",
            "[nltk_data]    |   Unzipping corpora/unicode_samples.zip.\n",
            "[nltk_data]    | Downloading package universal_treebanks_v20 to\n",
            "[nltk_data]    |     /root/nltk_data...\n",
            "[nltk_data]    | Downloading package verbnet to /root/nltk_data...\n",
            "[nltk_data]    |   Unzipping corpora/verbnet.zip.\n",
            "[nltk_data]    | Downloading package verbnet3 to /root/nltk_data...\n",
            "[nltk_data]    |   Unzipping corpora/verbnet3.zip.\n",
            "[nltk_data]    | Downloading package webtext to /root/nltk_data...\n",
            "[nltk_data]    |   Unzipping corpora/webtext.zip.\n",
            "[nltk_data]    | Downloading package wordnet to /root/nltk_data...\n",
            "[nltk_data]    |   Unzipping corpora/wordnet.zip.\n",
            "[nltk_data]    | Downloading package wordnet31 to /root/nltk_data...\n",
            "[nltk_data]    |   Unzipping corpora/wordnet31.zip.\n",
            "[nltk_data]    | Downloading package wordnet_ic to /root/nltk_data...\n",
            "[nltk_data]    |   Unzipping corpora/wordnet_ic.zip.\n",
            "[nltk_data]    | Downloading package words to /root/nltk_data...\n",
            "[nltk_data]    |   Unzipping corpora/words.zip.\n",
            "[nltk_data]    | Downloading package ycoe to /root/nltk_data...\n",
            "[nltk_data]    |   Unzipping corpora/ycoe.zip.\n",
            "[nltk_data]    | Downloading package rslp to /root/nltk_data...\n",
            "[nltk_data]    |   Unzipping stemmers/rslp.zip.\n",
            "[nltk_data]    | Downloading package maxent_treebank_pos_tagger to\n",
            "[nltk_data]    |     /root/nltk_data...\n",
            "[nltk_data]    |   Unzipping taggers/maxent_treebank_pos_tagger.zip.\n",
            "[nltk_data]    | Downloading package universal_tagset to\n",
            "[nltk_data]    |     /root/nltk_data...\n",
            "[nltk_data]    |   Unzipping taggers/universal_tagset.zip.\n",
            "[nltk_data]    | Downloading package maxent_ne_chunker to\n",
            "[nltk_data]    |     /root/nltk_data...\n",
            "[nltk_data]    |   Unzipping chunkers/maxent_ne_chunker.zip.\n",
            "[nltk_data]    | Downloading package punkt to /root/nltk_data...\n",
            "[nltk_data]    |   Unzipping tokenizers/punkt.zip.\n",
            "[nltk_data]    | Downloading package book_grammars to\n",
            "[nltk_data]    |     /root/nltk_data...\n",
            "[nltk_data]    |   Unzipping grammars/book_grammars.zip.\n",
            "[nltk_data]    | Downloading package sample_grammars to\n",
            "[nltk_data]    |     /root/nltk_data...\n",
            "[nltk_data]    |   Unzipping grammars/sample_grammars.zip.\n",
            "[nltk_data]    | Downloading package spanish_grammars to\n",
            "[nltk_data]    |     /root/nltk_data...\n",
            "[nltk_data]    |   Unzipping grammars/spanish_grammars.zip.\n",
            "[nltk_data]    | Downloading package basque_grammars to\n",
            "[nltk_data]    |     /root/nltk_data...\n",
            "[nltk_data]    |   Unzipping grammars/basque_grammars.zip.\n",
            "[nltk_data]    | Downloading package large_grammars to\n",
            "[nltk_data]    |     /root/nltk_data...\n",
            "[nltk_data]    |   Unzipping grammars/large_grammars.zip.\n",
            "[nltk_data]    | Downloading package tagsets to /root/nltk_data...\n",
            "[nltk_data]    |   Unzipping help/tagsets.zip.\n",
            "[nltk_data]    | Downloading package snowball_data to\n",
            "[nltk_data]    |     /root/nltk_data...\n",
            "[nltk_data]    | Downloading package bllip_wsj_no_aux to\n",
            "[nltk_data]    |     /root/nltk_data...\n",
            "[nltk_data]    |   Unzipping models/bllip_wsj_no_aux.zip.\n",
            "[nltk_data]    | Downloading package word2vec_sample to\n",
            "[nltk_data]    |     /root/nltk_data...\n",
            "[nltk_data]    |   Unzipping models/word2vec_sample.zip.\n",
            "[nltk_data]    | Downloading package panlex_swadesh to\n",
            "[nltk_data]    |     /root/nltk_data...\n",
            "[nltk_data]    | Downloading package mte_teip5 to /root/nltk_data...\n",
            "[nltk_data]    |   Unzipping corpora/mte_teip5.zip.\n",
            "[nltk_data]    | Downloading package averaged_perceptron_tagger to\n",
            "[nltk_data]    |     /root/nltk_data...\n",
            "[nltk_data]    |   Unzipping taggers/averaged_perceptron_tagger.zip.\n",
            "[nltk_data]    | Downloading package averaged_perceptron_tagger_ru to\n",
            "[nltk_data]    |     /root/nltk_data...\n",
            "[nltk_data]    |   Unzipping\n",
            "[nltk_data]    |       taggers/averaged_perceptron_tagger_ru.zip.\n",
            "[nltk_data]    | Downloading package perluniprops to\n",
            "[nltk_data]    |     /root/nltk_data...\n",
            "[nltk_data]    |   Unzipping misc/perluniprops.zip.\n",
            "[nltk_data]    | Downloading package nonbreaking_prefixes to\n",
            "[nltk_data]    |     /root/nltk_data...\n",
            "[nltk_data]    |   Unzipping corpora/nonbreaking_prefixes.zip.\n",
            "[nltk_data]    | Downloading package vader_lexicon to\n",
            "[nltk_data]    |     /root/nltk_data...\n",
            "[nltk_data]    | Downloading package porter_test to /root/nltk_data...\n",
            "[nltk_data]    |   Unzipping stemmers/porter_test.zip.\n",
            "[nltk_data]    | Downloading package wmt15_eval to /root/nltk_data...\n",
            "[nltk_data]    |   Unzipping models/wmt15_eval.zip.\n",
            "[nltk_data]    | Downloading package mwa_ppdb to /root/nltk_data...\n",
            "[nltk_data]    |   Unzipping misc/mwa_ppdb.zip.\n",
            "[nltk_data]    | \n",
            "[nltk_data]  Done downloading collection all\n"
          ]
        },
        {
          "output_type": "execute_result",
          "data": {
            "text/plain": [
              "True"
            ]
          },
          "metadata": {},
          "execution_count": 10
        }
      ]
    },
    {
      "cell_type": "code",
      "metadata": {
        "id": "VXMHsftz12z4"
      },
      "source": [
        "import nltk\n",
        "s = \"Hi, I'm Taro Yamada I woke up at 8am\"\n",
        "morph = nltk.word_tokenize(s)\n",
        "pos = nltk.pos_tag(morph)"
      ],
      "execution_count": 11,
      "outputs": []
    },
    {
      "cell_type": "code",
      "metadata": {
        "colab": {
          "base_uri": "https://localhost:8080/"
        },
        "id": "2Q0TCRAT165Y",
        "outputId": "7ab7b374-10d7-4ee7-82ef-1d6f28f90bb2"
      },
      "source": [
        "morph,pos"
      ],
      "execution_count": 12,
      "outputs": [
        {
          "output_type": "execute_result",
          "data": {
            "text/plain": [
              "(['Hi', ',', 'I', \"'m\", 'Taro', 'Yamada', 'I', 'woke', 'up', 'at', '8am'],\n",
              " [('Hi', 'NNP'),\n",
              "  (',', ','),\n",
              "  ('I', 'PRP'),\n",
              "  (\"'m\", 'VBP'),\n",
              "  ('Taro', 'JJ'),\n",
              "  ('Yamada', 'NNP'),\n",
              "  ('I', 'PRP'),\n",
              "  ('woke', 'VBD'),\n",
              "  ('up', 'RB'),\n",
              "  ('at', 'IN'),\n",
              "  ('8am', 'CD')])"
            ]
          },
          "metadata": {},
          "execution_count": 12
        }
      ]
    },
    {
      "cell_type": "code",
      "metadata": {
        "id": "66VfNXt_2zh-"
      },
      "source": [
        "#Building Bag of words\n",
        "def word_bag(docs):\n",
        "#     nrows = len(docs)\n",
        "    idx = {}\n",
        "    tid = 0\n",
        "    for d in docs:\n",
        "        for w in d:\n",
        "            if w not in idx:\n",
        "                idx[w] = tid\n",
        "                tid += 1\n",
        "    return idx\n",
        "    \n",
        "#Building the sparse matrix\n",
        "from collections import Counter\n",
        "from scipy.sparse import csr_matrix\n",
        "def build_matrix(docs, idx):\n",
        "    r\"\"\" Build sparse matrix from a list of documents, \n",
        "    each of which is a list of word/terms in the document.  \n",
        "    \"\"\"\n",
        "    nrows = len(docs)\n",
        "    nnz = 0\n",
        "    for d in docs:\n",
        "        nnz += len(set(d))\n",
        "        \n",
        "    ncols = len(idx)\n",
        "        \n",
        "    # set up memory\n",
        "    ind = np.zeros(nnz, dtype=np.int)\n",
        "    val = np.zeros(nnz, dtype=np.double)\n",
        "    ptr = np.zeros(nrows+1, dtype=np.int)\n",
        "    i = 0  # document ID / row counter\n",
        "    n = 0  # non-zero counter\n",
        "    # transfer values\n",
        "    for d in docs:\n",
        "        cnt = Counter(d)\n",
        "        keys = list(k for k,_ in cnt.most_common())\n",
        "        l = len(keys)\n",
        "        for j,k in enumerate(keys):\n",
        "            #print(keys)\n",
        "            if(k in idx):\n",
        "                \n",
        "                ind[j+n] = idx[k]\n",
        "                val[j+n] = cnt[k]\n",
        "        ptr[i+1] = ptr[i] + l\n",
        "        n += l\n",
        "        i += 1\n",
        "            \n",
        "    mat = csr_matrix((val, ind, ptr), shape=(nrows, ncols), dtype=np.double)\n",
        "    mat.sort_indices()\n",
        "    \n",
        "    return mat"
      ],
      "execution_count": 13,
      "outputs": []
    },
    {
      "cell_type": "code",
      "metadata": {
        "id": "XJ8Ud2wi3WLm"
      },
      "source": [
        "# scale matrix and normalize its rows\n",
        "def csr_idf(mat, copy=False, **kargs):\n",
        "    r\"\"\" Scale a CSR matrix by idf. \n",
        "    Returns scaling factors as dict. If copy is True, \n",
        "    returns scaled matrix and scaling factors.\n",
        "    \"\"\"\n",
        "    if copy is True:\n",
        "        mat = mat.copy()\n",
        "    nrows = mat.shape[0]\n",
        "    nnz = mat.nnz\n",
        "    ind, val, ptr = mat.indices, mat.data, mat.indptr\n",
        "    # document frequency\n",
        "    df = defaultdict(int)\n",
        "    for i in ind:\n",
        "        df[i] += 1\n",
        "    # inverse document frequency\n",
        "    for k,v in df.items():\n",
        "        df[k] = np.log(nrows / float(v))  ## df turns to idf - reusing memory\n",
        "    # scale by idf\n",
        "    for i in range(0, nnz):\n",
        "        val[i] *= df[ind[i]]\n",
        "        \n",
        "    return df if copy is False else mat\n",
        "\n",
        "def csr_l2normalize(mat, copy=False, **kargs):\n",
        "    if copy is True:\n",
        "        mat = mat.copy()\n",
        "    nrows = mat.shape[0]\n",
        "    nnz = mat.nnz\n",
        "    ind, val, ptr = mat.indices, mat.data, mat.indptr\n",
        "    # normalize\n",
        "    for i in range(nrows):\n",
        "        rsum = 0.0    \n",
        "        for j in range(ptr[i], ptr[i+1]):\n",
        "            rsum += val[j]**2\n",
        "        if rsum == 0.0:\n",
        "            continue  # do not normalize empty rows\n",
        "        rsum = 1.0/np.sqrt(rsum)\n",
        "        for j in range(ptr[i], ptr[i+1]):\n",
        "            val[j] *= rsum\n",
        "            \n",
        "    if copy is True:\n",
        "        return mat"
      ],
      "execution_count": 14,
      "outputs": []
    },
    {
      "cell_type": "code",
      "metadata": {
        "id": "eduoRwfw3ZLh"
      },
      "source": [
        "#kNN Function\n",
        "class knn_main():\n",
        "    def __init__(self):\n",
        "        pass\n",
        "    \n",
        "    def fit(self, x_train, y_train):\n",
        "        self.x_train = x_train\n",
        "        self.y_train = y_train\n",
        "    \n",
        "    def predict(self, x_test,k,eps):\n",
        "        self.x_test = x_test\n",
        "        y_predict = []\n",
        "        print(x_test.shape[0])\n",
        "        for i,test_case in enumerate(x_test):\n",
        "            temp = self.compute_distances(test_case, self.x_train)\n",
        "            c = temp.tocoo(copy=True)\n",
        "            d = self.sort_coo(c)\n",
        "       #print(d[0])\n",
        "            t = d[0:k]\n",
        "        #print(t)\n",
        "            dict_l ={}\n",
        "        #print(k)\n",
        "            for z,x in enumerate(t):\n",
        "                index = x[1]\n",
        "                similarity = x[2]\n",
        "                label_t = self.y_train[index]\n",
        "                if(z>0):\n",
        "                    \n",
        "                    if similarity > eps:\n",
        "                        if label_t not in dict_l:\n",
        "                            dict_l[label_t]=1\n",
        "                        else:\n",
        "                            dict_l[label_t]+=1\n",
        "                else:\n",
        "                    dict_l[label_t] =1\n",
        "                \n",
        "            m = max(dict_l.items(),key=operator.itemgetter(1))[0]\n",
        "            y_predict.append(m)\n",
        "            #print(\"test case:\", i+1,\"Predicted :\", m)\n",
        "        return y_predict\n",
        "    def sort_coo(self,m):\n",
        "        tuples = zip(m.row, m.col, m.data)\n",
        "        return sorted(tuples, key=lambda x: (x[2]),reverse=True)\n",
        "    \n",
        "    def compute_distances(self, X_test,train):        \n",
        "        dot_pro = np.dot(X_test, train.T)\n",
        "        return(dot_pro)"
      ],
      "execution_count": 15,
      "outputs": []
    },
    {
      "cell_type": "code",
      "metadata": {
        "id": "5TN5LV9Q3wnX"
      },
      "source": [
        "import tqdm "
      ],
      "execution_count": 21,
      "outputs": []
    },
    {
      "cell_type": "code",
      "metadata": {
        "colab": {
          "base_uri": "https://localhost:8080/"
        },
        "id": "mYveOvRg3bLJ",
        "outputId": "3a67432b-3b7f-49c6-d8bb-023316d82085"
      },
      "source": [
        "#Seperation of labels and text data\n",
        "labels = []\n",
        "texts = []\n",
        "for line in tqdm.tqdm(df.values):\n",
        "    labels.append(line[0])\n",
        "#     ps = word_tokenize()\n",
        "    texts.append(nltk.word_tokenize(line[1].lower()))\n",
        "\n",
        "len(texts)\n",
        "# docs1 = filterLen(texts, 4)\n",
        "# docs2 = filterLen(tex,4)"
      ],
      "execution_count": 30,
      "outputs": [
        {
          "output_type": "stream",
          "name": "stderr",
          "text": [
            "100%|██████████| 14438/14438 [00:22<00:00, 641.31it/s]\n"
          ]
        },
        {
          "output_type": "execute_result",
          "data": {
            "text/plain": [
              "14438"
            ]
          },
          "metadata": {},
          "execution_count": 30
        }
      ]
    },
    {
      "cell_type": "code",
      "metadata": {
        "id": "6yGW7EfC4F8M"
      },
      "source": [
        "def filterLen(docs, minlen):\n",
        "    return [ [t for t in d if len(t) >= minlen ] for d in docs ]"
      ],
      "execution_count": 31,
      "outputs": []
    },
    {
      "cell_type": "code",
      "metadata": {
        "id": "wf7vo1gW3cyF"
      },
      "source": [
        "train_text =  filterLen(texts, 4)\n",
        "wordbag = word_bag(train_text)\n",
        "train_mat = build_matrix(train_text,wordbag)\n",
        "mat2 = csr_idf(train_mat, copy=True)\n",
        "norm_train_mat = csr_l2normalize(mat2, copy=True)"
      ],
      "execution_count": 32,
      "outputs": []
    },
    {
      "cell_type": "code",
      "metadata": {
        "id": "V_MY7QAJ3kxt"
      },
      "source": [
        "X_train, X_test, y_train,y_test = train_test_split(texts,labels,test_size = 0.3)\n",
        "test_mat = build_matrix(X_test,wordbag)\n",
        "mat3 = csr_idf(test_mat, copy=True)\n",
        "norm_test_mat = csr_l2normalize(mat3, copy=True)"
      ],
      "execution_count": 33,
      "outputs": []
    },
    {
      "cell_type": "code",
      "metadata": {
        "colab": {
          "base_uri": "https://localhost:8080/"
        },
        "id": "CMoFssdg4Kq0",
        "outputId": "eda2e52b-78b0-4358-cf2e-1ff60c2367af"
      },
      "source": [
        "classifier = knn_main()\n",
        "classifier.fit(norm_train_mat,labels)\n",
        "g = classifier.predict(norm_test_mat,100,0.1)"
      ],
      "execution_count": 34,
      "outputs": [
        {
          "output_type": "stream",
          "name": "stdout",
          "text": [
            "4332\n"
          ]
        }
      ]
    },
    {
      "cell_type": "code",
      "metadata": {
        "colab": {
          "base_uri": "https://localhost:8080/"
        },
        "id": "UVxBUiXx4Lts",
        "outputId": "855e5010-dd50-4078-b521-5f4888fe6eaf"
      },
      "source": [
        "cm=confusion_matrix(y_test ,g)\n",
        "print(cm)\n",
        "print(classification_report(y_test, g))"
      ],
      "execution_count": 35,
      "outputs": [
        {
          "output_type": "stream",
          "name": "stdout",
          "text": [
            "[[749  34  30  23  99]\n",
            " [ 50 252   5  20 104]\n",
            " [ 52  11 286  72 159]\n",
            " [ 26  13  24 765  98]\n",
            " [198 113 100 277 772]]\n",
            "              precision    recall  f1-score   support\n",
            "\n",
            "           1       0.70      0.80      0.75       935\n",
            "           2       0.60      0.58      0.59       431\n",
            "           3       0.64      0.49      0.56       580\n",
            "           4       0.66      0.83      0.73       926\n",
            "           5       0.63      0.53      0.57      1460\n",
            "\n",
            "    accuracy                           0.65      4332\n",
            "   macro avg       0.64      0.65      0.64      4332\n",
            "weighted avg       0.65      0.65      0.64      4332\n",
            "\n"
          ]
        }
      ]
    },
    {
      "cell_type": "code",
      "metadata": {
        "id": "0yEgdaAK4NJ3"
      },
      "source": [
        ""
      ],
      "execution_count": null,
      "outputs": []
    }
  ]
}